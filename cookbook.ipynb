{
 "cells": [
  {
   "cell_type": "code",
   "execution_count": 1,
   "metadata": {},
   "outputs": [
    {
     "name": "stdout",
     "output_type": "stream",
     "text": [
      "{'Омлет': [{'ingredient_name': 'Яйцо', 'quantity': 2, 'measure': 'шт'}, {'ingredient_name': 'Молоко', 'quantity': 100, 'measure': 'мл'}, {'ingredient_name': 'Помидор', 'quantity': 2, 'measure': 'шт'}], 'Утка по-пекински': [{'ingredient_name': 'Утка', 'quantity': 1, 'measure': 'шт'}, {'ingredient_name': 'Вода', 'quantity': 2, 'measure': 'л'}, {'ingredient_name': 'Мед', 'quantity': 3, 'measure': 'ст.л'}, {'ingredient_name': 'Соевый соус', 'quantity': 60, 'measure': 'мл'}], 'Запеченный картофель': [{'ingredient_name': 'Картофель', 'quantity': 1, 'measure': 'кг'}, {'ingredient_name': 'Чеснок', 'quantity': 3, 'measure': 'зубч'}, {'ingredient_name': 'Сыр гауда', 'quantity': 100, 'measure': 'г'}], 'Фахитос': [{'ingredient_name': 'Говядина', 'quantity': 500, 'measure': 'г'}, {'ingredient_name': 'Перец сладкий', 'quantity': 1, 'measure': 'шт'}, {'ingredient_name': 'Лаваш', 'quantity': 2, 'measure': 'шт'}, {'ingredient_name': 'Винный уксус', 'quantity': 1, 'measure': 'ст.л'}, {'ingredient_name': 'Помидор', 'quantity': 2, 'measure': 'шт'}]}\n"
     ]
    }
   ],
   "source": [
    "with open('recipes.txt','r', encoding='utf-8') as file:\n",
    "    cook_book = {}\n",
    "    for line in file.read().split('\\n\\n'):\n",
    "        name, _, *args = line.split('\\n')\n",
    "        ingredient_list = []\n",
    "        for arg in args:\n",
    "            ingredient_dict = {}\n",
    "            for idx, el in enumerate(arg.split(' | ')):\n",
    "                if el.isdigit():\n",
    "                    el = int(el)\n",
    "                if idx == 0:\n",
    "                    ingredient_dict.setdefault('ingredient_name', el)\n",
    "                elif idx == 1:\n",
    "                    ingredient_dict.setdefault('quantity', el)\n",
    "                else:\n",
    "                    ingredient_dict.setdefault('measure', el)\n",
    "            \n",
    "            ingredient_list.append(ingredient_dict)\n",
    "\n",
    "        cook_book[name] = ingredient_list\n",
    "\n",
    "    print(cook_book)"
   ]
  },
  {
   "cell_type": "code",
   "execution_count": 4,
   "metadata": {},
   "outputs": [],
   "source": [
    "def get_shopping_list_by_dishes(dishes, person):\n",
    "    res = {}\n",
    "    overall_quantity = {}\n",
    "    for key, value in cook_book.items():\n",
    "        if key in dishes:\n",
    "            for ingredient in value:\n",
    "                res.setdefault(ingredient['ingredient_name'], {'measure': ingredient['measure']})\n",
    "                overall_quantity.setdefault(ingredient['ingredient_name'], 0)\n",
    "                overall_quantity[ingredient['ingredient_name']] += ingredient['quantity']\n",
    "\n",
    "    for key, value in overall_quantity.items():\n",
    "        res[key]['quantity'] = value * person\n",
    "    \n",
    "    return res "
   ]
  },
  {
   "cell_type": "code",
   "execution_count": 5,
   "metadata": {},
   "outputs": [
    {
     "data": {
      "text/plain": [
       "{'Яйцо': {'measure': 'шт', 'quantity': 4},\n",
       " 'Молоко': {'measure': 'мл', 'quantity': 200},\n",
       " 'Помидор': {'measure': 'шт', 'quantity': 8},\n",
       " 'Говядина': {'measure': 'г', 'quantity': 1000},\n",
       " 'Перец сладкий': {'measure': 'шт', 'quantity': 2},\n",
       " 'Лаваш': {'measure': 'шт', 'quantity': 4},\n",
       " 'Винный уксус': {'measure': 'ст.л', 'quantity': 2}}"
      ]
     },
     "execution_count": 5,
     "metadata": {},
     "output_type": "execute_result"
    }
   ],
   "source": [
    "get_shopping_list_by_dishes(['Фахитос', 'Омлет'], 2)"
   ]
  }
 ],
 "metadata": {
  "kernelspec": {
   "display_name": "Python 3",
   "language": "python",
   "name": "python3"
  },
  "language_info": {
   "codemirror_mode": {
    "name": "ipython",
    "version": 3
   },
   "file_extension": ".py",
   "mimetype": "text/x-python",
   "name": "python",
   "nbconvert_exporter": "python",
   "pygments_lexer": "ipython3",
   "version": "3.11.7"
  }
 },
 "nbformat": 4,
 "nbformat_minor": 2
}
